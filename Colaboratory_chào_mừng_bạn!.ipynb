{
  "cells": [
    {
      "cell_type": "markdown",
      "metadata": {
        "id": "view-in-github",
        "colab_type": "text"
      },
      "source": [
        "<a href=\"https://colab.research.google.com/github/Imuseless123/InventoryOP/blob/main/Colaboratory_ch%C3%A0o_m%E1%BB%ABng_b%E1%BA%A1n!.ipynb\" target=\"_parent\"><img src=\"https://colab.research.google.com/assets/colab-badge.svg\" alt=\"Open In Colab\"/></a>"
      ]
    },
    {
      "cell_type": "code",
      "source": [
        "import pandas as pd\n",
        "import numpy as np\n",
        "\n",
        "# Load your data with semicolon as the separator and set low_memory to False to avoid mixed-type warnings\n",
        "df = pd.read_csv('/content/sample_data/DataCoSupplyChainDataset.csv', encoding='latin-1', sep=';', low_memory=False)\n",
        "print(df);\n"
      ],
      "metadata": {
        "id": "Y5L2Nh_KjU9v",
        "outputId": "3982956b-85d2-4478-e99b-025d2c2e6b60",
        "colab": {
          "base_uri": "https://localhost:8080/"
        }
      },
      "execution_count": 11,
      "outputs": [
        {
          "output_type": "stream",
          "name": "stdout",
          "text": [
            "            Type  Days for shipping (real)  Days for shipment (scheduled)  \\\n",
            "0          DEBIT                         3                              4   \n",
            "1       TRANSFER                         5                              4   \n",
            "2           CASH                         4                              4   \n",
            "3          DEBIT                         3                              4   \n",
            "4        PAYMENT                         2                              4   \n",
            "...          ...                       ...                            ...   \n",
            "180514      CASH                         4                              4   \n",
            "180515     DEBIT                         3                              2   \n",
            "180516  TRANSFER                         5                              4   \n",
            "180517   PAYMENT                         3                              4   \n",
            "180518   PAYMENT                         4                              4   \n",
            "\n",
            "       Benefit per order Sales per customer   Delivery Status  \\\n",
            "0                  91.25      3.146.400.146  Advance shipping   \n",
            "1         -2.490.899.963      3.113.599.854     Late delivery   \n",
            "2         -2.477.799.988      3.097.200.012  Shipping on time   \n",
            "3          2.286.000.061      3.048.099.976  Advance shipping   \n",
            "4          1.342.100.067             298.25  Advance shipping   \n",
            "...                  ...                ...               ...   \n",
            "180514                40        399.980.011  Shipping on time   \n",
            "180515    -6.137.700.195        395.980.011     Late delivery   \n",
            "180516     1.411.100.006        391.980.011     Late delivery   \n",
            "180517     1.862.299.957        387.980.011  Advance shipping   \n",
            "180518     1.689.499.969        383.980.011  Shipping on time   \n",
            "\n",
            "        Late_delivery_risk  Category Id   Category Name Customer City  ...  \\\n",
            "0                        0           73  Sporting Goods        Caguas  ...   \n",
            "1                        1           73  Sporting Goods        Caguas  ...   \n",
            "2                        0           73  Sporting Goods      San Jose  ...   \n",
            "3                        0           73  Sporting Goods   Los Angeles  ...   \n",
            "4                        0           73  Sporting Goods        Caguas  ...   \n",
            "...                    ...          ...             ...           ...  ...   \n",
            "180514                   0           45         Fishing      Brooklyn  ...   \n",
            "180515                   1           45         Fishing   Bakersfield  ...   \n",
            "180516                   1           45         Fishing       Bristol  ...   \n",
            "180517                   0           45         Fishing        Caguas  ...   \n",
            "180518                   0           45         Fishing        Caguas  ...   \n",
            "\n",
            "       Order Zipcode Product Card Id Product Category Id  Product Description  \\\n",
            "0                NaN            1360                  73                  NaN   \n",
            "1                NaN            1360                  73                  NaN   \n",
            "2                NaN            1360                  73                  NaN   \n",
            "3                NaN            1360                  73                  NaN   \n",
            "4                NaN            1360                  73                  NaN   \n",
            "...              ...             ...                 ...                  ...   \n",
            "180514           NaN            1004                  45                  NaN   \n",
            "180515           NaN            1004                  45                  NaN   \n",
            "180516           NaN            1004                  45                  NaN   \n",
            "180517           NaN            1004                  45                  NaN   \n",
            "180518           NaN            1004                  45                  NaN   \n",
            "\n",
            "                                            Product Image  \\\n",
            "0            http://images.acmesports.sports/Smart+watch    \n",
            "1            http://images.acmesports.sports/Smart+watch    \n",
            "2            http://images.acmesports.sports/Smart+watch    \n",
            "3            http://images.acmesports.sports/Smart+watch    \n",
            "4            http://images.acmesports.sports/Smart+watch    \n",
            "...                                                   ...   \n",
            "180514  http://images.acmesports.sports/Field+%26+Stre...   \n",
            "180515  http://images.acmesports.sports/Field+%26+Stre...   \n",
            "180516  http://images.acmesports.sports/Field+%26+Stre...   \n",
            "180517  http://images.acmesports.sports/Field+%26+Stre...   \n",
            "180518  http://images.acmesports.sports/Field+%26+Stre...   \n",
            "\n",
            "                                     Product Name Product Price  \\\n",
            "0                                    Smart watch         327.75   \n",
            "1                                    Smart watch         327.75   \n",
            "2                                    Smart watch         327.75   \n",
            "3                                    Smart watch         327.75   \n",
            "4                                    Smart watch         327.75   \n",
            "...                                           ...           ...   \n",
            "180514  Field & Stream Sportsman 16 Gun Fire Safe   399.980.011   \n",
            "180515  Field & Stream Sportsman 16 Gun Fire Safe   399.980.011   \n",
            "180516  Field & Stream Sportsman 16 Gun Fire Safe   399.980.011   \n",
            "180517  Field & Stream Sportsman 16 Gun Fire Safe   399.980.011   \n",
            "180518  Field & Stream Sportsman 16 Gun Fire Safe   399.980.011   \n",
            "\n",
            "       Product Status shipping date (DateOrders)   Shipping Mode  \n",
            "0                   0               2/3/18 22:56  Standard Class  \n",
            "1                   0            1/18/2018 12:27  Standard Class  \n",
            "2                   0            1/17/2018 12:06  Standard Class  \n",
            "3                   0            1/16/2018 11:45  Standard Class  \n",
            "4                   0            1/15/2018 11:24  Standard Class  \n",
            "...               ...                        ...             ...  \n",
            "180514              0             1/20/2016 3:40  Standard Class  \n",
            "180515              0             1/19/2016 1:34    Second Class  \n",
            "180516              0            1/20/2016 21:00  Standard Class  \n",
            "180517              0            1/18/2016 20:18  Standard Class  \n",
            "180518              0            1/19/2016 18:54  Standard Class  \n",
            "\n",
            "[180519 rows x 53 columns]\n"
          ]
        }
      ]
    },
    {
      "cell_type": "code",
      "source": [
        "# Step 1: Handle Missing Values\n",
        "# Fill numerical columns with median values and categorical columns with \"Unknown\"\n",
        "numerical_cols = df.select_dtypes(include=[np.number]).columns\n",
        "categorical_cols = df.select_dtypes(exclude=[np.number]).columns\n",
        "\n",
        "# Convert columns with periods or commas into numeric format by removing non-numeric characters\n",
        "df['Sales per customer'] = pd.to_numeric(df['Sales per customer'].str.replace('.', ''), errors='coerce')\n",
        "df['Product Price'] = pd.to_numeric(df['Product Price'].str.replace('.', ''), errors='coerce')\n",
        "df['Benefit per order'] = pd.to_numeric(df['Benefit per order'].str.replace('.', ''), errors='coerce')\n",
        "\n",
        "# Fill NaNs in numerical columns with the median and categorical columns with \"Unknown\"\n",
        "df[numerical_cols] = df[numerical_cols].fillna(df[numerical_cols].median())\n",
        "df[categorical_cols] = df[categorical_cols].fillna(\"Unknown\")"
      ],
      "metadata": {
        "id": "39I8JNycl-hy"
      },
      "execution_count": 12,
      "outputs": []
    },
    {
      "cell_type": "code",
      "source": [
        "# Step 2: Remove Duplicates\n",
        "df.drop_duplicates(inplace=True)\n"
      ],
      "metadata": {
        "id": "KBI4-yAapHRz"
      },
      "execution_count": 13,
      "outputs": []
    },
    {
      "cell_type": "code",
      "source": [
        "# Step 3: Correct Data Types\n",
        "# Convert date columns to datetime format, handling any parsing errors\n",
        "df['order date (DateOrders)'] = pd.to_datetime(df['order date (DateOrders)'], errors='coerce')\n",
        "df['shipping date (DateOrders)'] = pd.to_datetime(df['shipping date (DateOrders)'], errors='coerce')"
      ],
      "metadata": {
        "id": "lnLQTJ4FpL5F",
        "outputId": "dbcb3fe1-cdaa-4867-e7a8-4d32063cf272",
        "colab": {
          "base_uri": "https://localhost:8080/"
        }
      },
      "execution_count": 14,
      "outputs": [
        {
          "output_type": "stream",
          "name": "stderr",
          "text": [
            "<ipython-input-14-ad39e12decdf>:4: UserWarning: Could not infer format, so each element will be parsed individually, falling back to `dateutil`. To ensure parsing is consistent and as-expected, please specify a format.\n",
            "  df['shipping date (DateOrders)'] = pd.to_datetime(df['shipping date (DateOrders)'], errors='coerce')\n"
          ]
        }
      ]
    },
    {
      "cell_type": "code",
      "source": [
        "# Step 4: Validate Numerical Values\n",
        "# Ensure no negative or invalid values in key columns\n",
        "df['Order Item Product Price'] = df['Order Item Product Price'].apply(lambda x: max(x, 0) if pd.notnull(x) else x)\n",
        "df['Sales per customer'] = df['Sales per customer'].apply(lambda x: max(x, 0) if pd.notnull(x) else x)"
      ],
      "metadata": {
        "id": "E_Rh2qJBpV7T"
      },
      "execution_count": null,
      "outputs": []
    },
    {
      "cell_type": "code",
      "source": [
        "# Step 5: Standardize Categorical Data\n",
        "# Capitalize categorical fields for consistency\n",
        "df['Delivery Status'] = df['Delivery Status'].str.title()\n",
        "df['Product Status'] = df['Product Status'].str.title()"
      ],
      "metadata": {
        "id": "BdiW4Ix2rlYP"
      },
      "execution_count": null,
      "outputs": []
    },
    {
      "cell_type": "code",
      "source": [
        "# Step 6: Format Text Fields\n",
        "# Remove extra whitespace and standardize name fields\n",
        "df['Customer Fname'] = df['Customer Fname'].str.strip().str.title()\n",
        "df['Customer Lname'] = df['Customer Lname'].str.strip().str.title()\n",
        "df['Customer Email'] = df['Customer Email'].str.strip()"
      ],
      "metadata": {
        "id": "bH8qdHsyrrc9"
      },
      "execution_count": null,
      "outputs": []
    },
    {
      "cell_type": "code",
      "source": [
        "# Step 7: Verify Geolocation Data\n",
        "df = df[(df['Latitude'] >= -90) & (df['Latitude'] <= 90)]\n",
        "df = df[(df['Longitude'] >= -180) & (df['Longitude'] <= 180)]"
      ],
      "metadata": {
        "id": "M9pRT0GyruzD"
      },
      "execution_count": null,
      "outputs": []
    },
    {
      "cell_type": "code",
      "source": [
        "# Step 8: Calculate Derived Columns\n",
        "df['Actual Delivery Time'] = (df['shipping date (DateOrders)'] - df['order date (DateOrders)']).dt.days\n",
        "df['Late Delivery'] = np.where(df['Actual Delivery Time'] > df['Days for shipment (scheduled)'], 1, 0)"
      ],
      "metadata": {
        "id": "PIGYKtwFr8S2"
      },
      "execution_count": null,
      "outputs": []
    },
    {
      "cell_type": "code",
      "source": [
        "# Step 9: Remove Irrelevant or Sensitive Columns\n",
        "df.drop(columns=['Customer Password'], inplace=True)"
      ],
      "metadata": {
        "id": "2WmLD3iisJiR"
      },
      "execution_count": null,
      "outputs": []
    },
    {
      "cell_type": "code",
      "source": [
        "# Save cleaned data to a new CSV\n",
        "df.to_csv('cleaned_data.csv', index=False)"
      ],
      "metadata": {
        "id": "3yuhvbSJsLtD"
      },
      "execution_count": null,
      "outputs": []
    }
  ],
  "metadata": {
    "colab": {
      "name": "Colaboratory chào mừng bạn!",
      "provenance": [],
      "include_colab_link": true
    },
    "kernelspec": {
      "display_name": "Python 3",
      "name": "python3"
    }
  },
  "nbformat": 4,
  "nbformat_minor": 0
}